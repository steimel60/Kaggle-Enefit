{
 "cells": [
  {
   "cell_type": "code",
   "execution_count": 1,
   "id": "58b805cc",
   "metadata": {
    "_cell_guid": "b1076dfc-b9ad-4769-8c92-a6c4dae69d19",
    "_uuid": "8f2839f25d086af736a60e9eeb907d3b93b6e0e5",
    "execution": {
     "iopub.execute_input": "2023-12-01T20:04:49.020647Z",
     "iopub.status.busy": "2023-12-01T20:04:49.019896Z",
     "iopub.status.idle": "2023-12-01T20:04:49.540193Z",
     "shell.execute_reply": "2023-12-01T20:04:49.537138Z"
    },
    "papermill": {
     "duration": 0.532599,
     "end_time": "2023-12-01T20:04:49.547231",
     "exception": false,
     "start_time": "2023-12-01T20:04:49.014632",
     "status": "completed"
    },
    "tags": []
   },
   "outputs": [
    {
     "name": "stdout",
     "output_type": "stream",
     "text": [
      "/kaggle/input/predict-energy-behavior-of-prosumers/client.csv\n",
      "/kaggle/input/predict-energy-behavior-of-prosumers/gas_prices.csv\n",
      "/kaggle/input/predict-energy-behavior-of-prosumers/electricity_prices.csv\n",
      "/kaggle/input/predict-energy-behavior-of-prosumers/weather_station_to_county_mapping.csv\n",
      "/kaggle/input/predict-energy-behavior-of-prosumers/public_timeseries_testing_util.py\n",
      "/kaggle/input/predict-energy-behavior-of-prosumers/historical_weather.csv\n",
      "/kaggle/input/predict-energy-behavior-of-prosumers/county_id_to_name_map.json\n",
      "/kaggle/input/predict-energy-behavior-of-prosumers/train.csv\n",
      "/kaggle/input/predict-energy-behavior-of-prosumers/forecast_weather.csv\n",
      "/kaggle/input/predict-energy-behavior-of-prosumers/example_test_files/sample_submission.csv\n",
      "/kaggle/input/predict-energy-behavior-of-prosumers/example_test_files/client.csv\n",
      "/kaggle/input/predict-energy-behavior-of-prosumers/example_test_files/gas_prices.csv\n",
      "/kaggle/input/predict-energy-behavior-of-prosumers/example_test_files/electricity_prices.csv\n",
      "/kaggle/input/predict-energy-behavior-of-prosumers/example_test_files/historical_weather.csv\n",
      "/kaggle/input/predict-energy-behavior-of-prosumers/example_test_files/revealed_targets.csv\n",
      "/kaggle/input/predict-energy-behavior-of-prosumers/example_test_files/test.csv\n",
      "/kaggle/input/predict-energy-behavior-of-prosumers/example_test_files/forecast_weather.csv\n",
      "/kaggle/input/predict-energy-behavior-of-prosumers/enefit/competition.cpython-310-x86_64-linux-gnu.so\n",
      "/kaggle/input/predict-energy-behavior-of-prosumers/enefit/__init__.py\n"
     ]
    }
   ],
   "source": [
    "# This Python 3 environment comes with many helpful analytics libraries installed\n",
    "# It is defined by the kaggle/python Docker image: https://github.com/kaggle/docker-python\n",
    "# For example, here's several helpful packages to load\n",
    "\n",
    "import numpy as np # linear algebra\n",
    "import pandas as pd # data processing, CSV file I/O (e.g. pd.read_csv)\n",
    "\n",
    "# Input data files are available in the read-only \"../input/\" directory\n",
    "# For example, running this (by clicking run or pressing Shift+Enter) will list all files under the input directory\n",
    "\n",
    "import os\n",
    "for dirname, _, filenames in os.walk('/kaggle/input/predict-energy-behavior-of-prosumers'):\n",
    "    for filename in filenames:\n",
    "        print(os.path.join(dirname, filename))\n",
    "\n",
    "# You can write up to 20GB to the current directory (/kaggle/working/) that gets preserved as output when you create a version using \"Save & Run All\" \n",
    "# You can also write temporary files to /kaggle/temp/, but they won't be saved outside of the current session"
   ]
  },
  {
   "cell_type": "code",
   "execution_count": 2,
   "id": "63abdaff",
   "metadata": {
    "execution": {
     "iopub.execute_input": "2023-12-01T20:04:49.558979Z",
     "iopub.status.busy": "2023-12-01T20:04:49.558316Z",
     "iopub.status.idle": "2023-12-01T20:04:49.564265Z",
     "shell.execute_reply": "2023-12-01T20:04:49.562697Z"
    },
    "papermill": {
     "duration": 0.015258,
     "end_time": "2023-12-01T20:04:49.567041",
     "exception": false,
     "start_time": "2023-12-01T20:04:49.551783",
     "status": "completed"
    },
    "tags": []
   },
   "outputs": [],
   "source": [
    "import matplotlib.pyplot as plt"
   ]
  },
  {
   "cell_type": "code",
   "execution_count": null,
   "id": "f7636623",
   "metadata": {
    "papermill": {
     "duration": 0.002796,
     "end_time": "2023-12-01T20:04:49.572393",
     "exception": false,
     "start_time": "2023-12-01T20:04:49.569597",
     "status": "completed"
    },
    "tags": []
   },
   "outputs": [],
   "source": []
  }
 ],
 "metadata": {
  "kaggle": {
   "accelerator": "none",
   "dataSources": [
    {
     "databundleVersionId": 7056256,
     "sourceId": 57236,
     "sourceType": "competition"
    }
   ],
   "dockerImageVersionId": 30587,
   "isGpuEnabled": false,
   "isInternetEnabled": true,
   "language": "python",
   "sourceType": "notebook"
  },
  "kernelspec": {
   "display_name": "Python 3",
   "language": "python",
   "name": "python3"
  },
  "language_info": {
   "codemirror_mode": {
    "name": "ipython",
    "version": 3
   },
   "file_extension": ".py",
   "mimetype": "text/x-python",
   "name": "python",
   "nbconvert_exporter": "python",
   "pygments_lexer": "ipython3",
   "version": "3.10.12"
  },
  "papermill": {
   "default_parameters": {},
   "duration": 7.593966,
   "end_time": "2023-12-01T20:04:52.828613",
   "environment_variables": {},
   "exception": null,
   "input_path": "__notebook__.ipynb",
   "output_path": "__notebook__.ipynb",
   "parameters": {},
   "start_time": "2023-12-01T20:04:45.234647",
   "version": "2.4.0"
  }
 },
 "nbformat": 4,
 "nbformat_minor": 5
}
